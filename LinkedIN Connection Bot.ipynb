{
 "cells": [
  {
   "cell_type": "code",
   "execution_count": 25,
   "id": "2cff4ccc",
   "metadata": {},
   "outputs": [
    {
     "name": "stderr",
     "output_type": "stream",
     "text": [
      "C:\\Users\\mahes\\AppData\\Local\\Temp\\ipykernel_16796\\2222377538.py:16: DeprecationWarning: executable_path has been deprecated, please pass in a Service object\n",
      "  driver = webdriver.Firefox(executable_path=r'geckodriver.exe', options=options)\n"
     ]
    },
    {
     "ename": "KeyboardInterrupt",
     "evalue": "",
     "output_type": "error",
     "traceback": [
      "\u001b[1;31m---------------------------------------------------------------------------\u001b[0m",
      "\u001b[1;31mKeyboardInterrupt\u001b[0m                         Traceback (most recent call last)",
      "Input \u001b[1;32mIn [25]\u001b[0m, in \u001b[0;36m<cell line: 66>\u001b[1;34m()\u001b[0m\n\u001b[0;32m     67\u001b[0m \u001b[38;5;28;01mfor\u001b[39;00m i \u001b[38;5;129;01min\u001b[39;00m x:\n\u001b[0;32m     68\u001b[0m \n\u001b[0;32m     69\u001b[0m     \u001b[38;5;66;03m# get the profile URL\u001b[39;00m\n\u001b[0;32m     70\u001b[0m     driver\u001b[38;5;241m.\u001b[39mget(i)\n\u001b[1;32m---> 71\u001b[0m     \u001b[43msleep\u001b[49m\u001b[43m(\u001b[49m\u001b[38;5;241;43m5\u001b[39;49m\u001b[43m)\u001b[49m\n\u001b[0;32m     72\u001b[0m     \u001b[38;5;28;01mtry\u001b[39;00m:\n\u001b[0;32m     73\u001b[0m         connect1 \u001b[38;5;241m=\u001b[39m driver\u001b[38;5;241m.\u001b[39mfind_element(By\u001b[38;5;241m.\u001b[39mXPATH,\u001b[38;5;124m'\u001b[39m\u001b[38;5;124m//li-icon[@type = \u001b[39m\u001b[38;5;124m\"\u001b[39m\u001b[38;5;124mconnect\u001b[39m\u001b[38;5;124m\"\u001b[39m\u001b[38;5;124m]\u001b[39m\u001b[38;5;124m'\u001b[39m)\n",
      "\u001b[1;31mKeyboardInterrupt\u001b[0m: "
     ]
    }
   ],
   "source": [
    "import pandas as pd\n",
    "import random\n",
    "import time\n",
    "from parsel import Selector\n",
    "from time import sleep\n",
    "from selenium import webdriver\n",
    "from selenium.webdriver.common.by import By\n",
    "from selenium.webdriver.support.ui import WebDriverWait\n",
    "from selenium.webdriver.support import expected_conditions as EC\n",
    "from selenium.webdriver.firefox.options import Options\n",
    "from selenium.webdriver.common.keys import Keys\n",
    "opts = Options()\n",
    "\n",
    "options = Options()\n",
    "options.binary_location = r'C:\\Program Files\\Mozilla Firefox\\firefox.exe'\n",
    "driver = webdriver.Firefox(executable_path=r'geckodriver.exe', options=options)\n",
    "\n",
    "# function to ensure all key data fields have a value\n",
    "def validate_field(field):\n",
    "    # if field is present pass if field:\n",
    "    if field:\n",
    "        pass\n",
    "    # if field is not present print text else:\n",
    "    else:\n",
    "        field = 'No results'\n",
    "    return field\n",
    "\n",
    "# driver.get method() will navigate to a page given by the URL address\n",
    "driver.get('https://www.linkedin.com')\n",
    "\n",
    "# locate email form by_class_name\n",
    "username = driver.find_element(By.ID,'session_key')\n",
    "\n",
    "# send_keys() to simulate key strokes\n",
    "username.send_keys('mahexh007@gmail.com')\n",
    "\n",
    "# sleep for 0.5 seconds\n",
    "sleep(0.5)\n",
    "\n",
    "# locate password form by_class_name\n",
    "password = driver.find_element(By.ID,'session_password')\n",
    "\n",
    "# send_keys() to simulate key strokes\n",
    "password.send_keys('M4h3xh@2001')\n",
    "sleep(0.5)\n",
    "\n",
    "# locate submit button by_xpath\n",
    "sign_in_button = driver.find_element(By.XPATH,'//*[@type=\"submit\"]')\n",
    "\n",
    "# .click() to mimic button click\n",
    "sign_in_button.click()\n",
    "sleep(10)\n",
    "\n",
    "\n",
    "\n",
    "\n",
    "\n",
    "Jobdata = []\n",
    "lnks = []\n",
    "for x in range(0,100,10):\n",
    "    driver.get(f'https://www.google.com/search?q=site:linkedin.com/in/+AND+%22Python+Developer%22+AND+%22Delhi%22&rlz=1C1CHZO_enIN1023IN1023&ei=jPaIY-mEGM6cseMPyZaNmAo&start={x}')\n",
    "    time.sleep(random.uniform(2.5, 4.9))\n",
    "    linkedin_urls = [my_elem.get_attribute(\"href\") for my_elem in WebDriverWait(driver, 20).until(EC.visibility_of_all_elements_located((By.XPATH, \"//div[@class='yuRUbf']/a[@href]\")))]\n",
    "    lnks.append(linkedin_urls)\n",
    "    \n",
    "for x in lnks:\n",
    "    for i in x:\n",
    "\n",
    "        # get the profile URL\n",
    "        driver.get(i)\n",
    "        sleep(5)\n",
    "        try:\n",
    "            connect1 = driver.find_element(By.XPATH,'//li-icon[@type = \"connect\"]')\n",
    "            connect1.click()\n",
    "        except:\n",
    "            pass\n",
    "        connect = driver.find_element(By.XPATH,'//div[@class=\"ml7 mt1 pl3\"]')\n",
    "        connect.click()\n",
    "        sleep(5)\n",
    "        send = driver.find_element(By.XPATH,'//button[@aria-label = \"Send now\"]')\n",
    "        send.click()\n",
    "        sleep(2)\n",
    "        \n",
    "driver.quit()"
   ]
  },
  {
   "cell_type": "code",
   "execution_count": null,
   "id": "f05efa92",
   "metadata": {},
   "outputs": [],
   "source": []
  }
 ],
 "metadata": {
  "kernelspec": {
   "display_name": "Python 3 (ipykernel)",
   "language": "python",
   "name": "python3"
  },
  "language_info": {
   "codemirror_mode": {
    "name": "ipython",
    "version": 3
   },
   "file_extension": ".py",
   "mimetype": "text/x-python",
   "name": "python",
   "nbconvert_exporter": "python",
   "pygments_lexer": "ipython3",
   "version": "3.9.12"
  }
 },
 "nbformat": 4,
 "nbformat_minor": 5
}
